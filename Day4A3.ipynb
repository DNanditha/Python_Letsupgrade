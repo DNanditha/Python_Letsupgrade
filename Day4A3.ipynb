{
 "cells": [
  {
   "cell_type": "code",
   "execution_count": 13,
   "metadata": {},
   "outputs": [
    {
     "name": "stdout",
     "output_type": "stream",
     "text": [
      "I love LetsUpgrade\n",
      "I love LetsUpgrade So I am always connected to it\n"
     ]
    }
   ],
   "source": [
    "#Q1\n",
    "f=open('demo.txt','w')\n",
    "f.write('I love LetsUpgrade')\n",
    "f.close()\n",
    "f=open('demo.txt','r')\n",
    "print(f.read())\n",
    "f.close()\n",
    "f=open('demo.txt','a')\n",
    "f.write(' So I am always connected to it')\n",
    "f.close()\n",
    "f=open('demo.txt','r')\n",
    "print(f.read())\n",
    "f.close()"
   ]
  },
  {
   "cell_type": "code",
   "execution_count": 14,
   "metadata": {},
   "outputs": [
    {
     "name": "stdout",
     "output_type": "stream",
     "text": [
      "n = 9\n",
      "362880\n"
     ]
    }
   ],
   "source": [
    "#Q2\n",
    "def factorial(n):\n",
    "    if n == 0:\n",
    "        return 1\n",
    "    else:\n",
    "        return n * factorial(n-1)\n",
    "n=int(input(\"n = \"))\n",
    "print(factorial(n))"
   ]
  },
  {
   "cell_type": "code",
   "execution_count": null,
   "metadata": {},
   "outputs": [],
   "source": []
  }
 ],
 "metadata": {
  "kernelspec": {
   "display_name": "Python 3",
   "language": "python",
   "name": "python3"
  },
  "language_info": {
   "codemirror_mode": {
    "name": "ipython",
    "version": 3
   },
   "file_extension": ".py",
   "mimetype": "text/x-python",
   "name": "python",
   "nbconvert_exporter": "python",
   "pygments_lexer": "ipython3",
   "version": "3.8.3"
  }
 },
 "nbformat": 4,
 "nbformat_minor": 4
}
