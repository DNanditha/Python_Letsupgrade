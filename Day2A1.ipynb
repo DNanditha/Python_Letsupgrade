{
 "cells": [
  {
   "cell_type": "code",
   "execution_count": 15,
   "metadata": {},
   "outputs": [
    {
     "name": "stdout",
     "output_type": "stream",
     "text": [
      "hello2WorlD\n",
      "HELLO\n",
      "world\n",
      "True\n",
      "True\n",
      "Hello\n",
      "1\n",
      "['hello', 'WorlD']\n"
     ]
    }
   ],
   "source": [
    "#Q1\n",
    "a='hello'\n",
    "b='WorlD'\n",
    "c=a+'2'+b\n",
    "print(c)\n",
    "print(a.upper())\n",
    "print(b.lower())\n",
    "print(a.isalpha())\n",
    "print(b.isalnum())\n",
    "print(a.title())\n",
    "print(a.index('e'))\n",
    "print(c.split('2'))"
   ]
  },
  {
   "cell_type": "code",
   "execution_count": 27,
   "metadata": {},
   "outputs": [
    {
     "name": "stdout",
     "output_type": "stream",
     "text": [
      "[1, 'Hi', True, 10.9]\n",
      "[1, 'Hi', True, 10.9, 'LetsUpgrade']\n",
      "1\n",
      "[1, True, 10.9, 'LetsUpgrade']\n",
      "['LetsUpgrade', 10.9, True, 1]\n",
      "['LetsUpgrade', 10.9, True]\n"
     ]
    }
   ],
   "source": [
    "#Q2\n",
    "lst=[1,'Hi',True,10.9]\n",
    "print(lst)\n",
    "lst.append('LetsUpgrade')\n",
    "print(lst)\n",
    "x=lst.count('LetsUpgrade')\n",
    "print(x)\n",
    "lst.remove('Hi')\n",
    "print(lst)\n",
    "lst.reverse()\n",
    "print(lst)\n",
    "lst.pop()\n",
    "print(lst)"
   ]
  },
  {
   "cell_type": "code",
   "execution_count": 36,
   "metadata": {},
   "outputs": [
    {
     "name": "stdout",
     "output_type": "stream",
     "text": [
      "Crysta\n",
      "{'brand': 'Innova', 'model': 'Crysta', 'year': 2017}\n",
      "dict_items([('brand', 'Innova'), ('model', 'Crysta'), ('year', 2017)])\n",
      "{'brand': 'Innova', 'model': 'Norm', 'year': 2017}\n"
     ]
    },
    {
     "data": {
      "text/plain": [
       "('year', 2017)"
      ]
     },
     "execution_count": 36,
     "metadata": {},
     "output_type": "execute_result"
    }
   ],
   "source": [
    "#Q3\n",
    "car = {\n",
    "  \"brand\": \"Innova\",\n",
    "  \"model\": \"Crysta\",\n",
    "  \"year\": 2017\n",
    "}\n",
    "\n",
    "x = car.get(\"model\")\n",
    "print(x)\n",
    "y=car.copy()\n",
    "print(y)\n",
    "print(car.items())\n",
    "z=car.setdefault('model','Crysta')\n",
    "car.update({'model':'Norm'})\n",
    "print(car)\n",
    "car.popitem()"
   ]
  },
  {
   "cell_type": "code",
   "execution_count": null,
   "metadata": {},
   "outputs": [],
   "source": []
  }
 ],
 "metadata": {
  "kernelspec": {
   "display_name": "Python 3",
   "language": "python",
   "name": "python3"
  },
  "language_info": {
   "codemirror_mode": {
    "name": "ipython",
    "version": 3
   },
   "file_extension": ".py",
   "mimetype": "text/x-python",
   "name": "python",
   "nbconvert_exporter": "python",
   "pygments_lexer": "ipython3",
   "version": "3.8.3"
  }
 },
 "nbformat": 4,
 "nbformat_minor": 4
}
